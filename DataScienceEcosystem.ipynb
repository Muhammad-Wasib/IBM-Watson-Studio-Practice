{
 "cells": [
  {
   "cell_type": "markdown",
   "metadata": {},
   "source": [
    "<center>\n",
    "    <img src=\"https://cf-courses-data.s3.us.cloud-object-storage.appdomain.cloud/IBMDeveloperSkillsNetwork-DS0105EN-SkillsNetwork/labs/Module2/images/SN_web_lightmode.png\" width=\"300\" alt=\"cognitiveclass.ai logo\">\n",
    "</center>\n"
   ]
  },
  {
   "cell_type": "markdown",
   "metadata": {},
   "source": [
    "#### Add your code below following the instructions given in the course\n"
   ]
  },
  {
   "cell_type": "markdown",
   "metadata": {},
   "source": [
    "# Data Science Tools and Ecosystem"
   ]
  },
  {
   "cell_type": "markdown",
   "metadata": {},
   "source": [
    "Data science tools include popular programming languages such as Python and R, integrated development environments (IDEs) like Jupyter Notebooks and RStudio, data manipulation and analysis libraries like pandas and dplyr, data visualization libraries like Matplotlib and ggplot, machine learning libraries like scikit-learn and TensorFlow, distributed computing frameworks like Hadoop and Spark for big data processing, and cloud computing platforms like AWS and Microsoft Azure. These tools are essential for data scientists to manipulate, analyze, and visualize data, build machine learning models, and process and store data in the cloud."
   ]
  },
  {
   "cell_type": "markdown",
   "metadata": {},
   "source": [
    "<b/>Objectives:\n",
    "- Introduction to basic arithmetic operations in Python.\n",
    "- Overview of popular languages used for Data Science.\n",
    "- Understanding of key libraries in Python for Data Science, including NumPy, Pandas, and Matplotlib.\n",
    "- Importance of data cleaning and best practices for handling missing data, outliers, and duplicates.\n",
    "- Basic understanding of data preprocessing techniques, including feature scaling and encoding.\n",
    "- Overview of machine learning algorithms and their applications in supervised and unsupervised learning.\n",
    "- Introduction to evaluation metrics for machine learning models.\n",
    "- Importance of model selection and hyperparameter tuning.\n",
    "- Understanding of key concepts in deep learning, including neural networks and backpropagation"
   ]
  },
  {
   "cell_type": "markdown",
   "metadata": {},
   "source": [
    "Some of the popular languages that Data Scientists use are:\n",
    "1. R\n",
    "2. Python\n",
    "3. Scala\n",
    "4. SQL"
   ]
  },
  {
   "cell_type": "markdown",
   "metadata": {},
   "source": [
    "Some of the commonly used libraries used by Data Scientists include:\n",
    "1. Pandas\n",
    "2. Numpy\n",
    "3. Matplotlip\n",
    "4. Seaborn"
   ]
  },
  {
   "cell_type": "markdown",
   "metadata": {},
   "source": [
    "|  Data Science |  |  |\n",
    "| --- | --- | --- |\n",
    "|Jupyter Notebook | \n",
    "|Anaconda|\n",
    "|R Studio|"
   ]
  },
  {
   "cell_type": "markdown",
   "metadata": {},
   "source": [
    "### Below are a few examples of evaluating arithmetic expressions in Python.\n"
   ]
  },
  {
   "cell_type": "code",
   "execution_count": 21,
   "metadata": {},
   "outputs": [
    {
     "name": "stdout",
     "output_type": "stream",
     "text": [
      "6\n"
     ]
    }
   ],
   "source": [
    "a=print(2*3)\n"
   ]
  },
  {
   "cell_type": "code",
   "execution_count": 22,
   "metadata": {},
   "outputs": [
    {
     "name": "stdout",
     "output_type": "stream",
     "text": [
      "17\n"
     ]
    }
   ],
   "source": [
    "#This a simple arithmetic expression to mutiply then add integers\n",
    "b= (3*4)+5\n",
    "print(b)"
   ]
  },
  {
   "cell_type": "code",
   "execution_count": 12,
   "metadata": {},
   "outputs": [
    {
     "name": "stdout",
     "output_type": "stream",
     "text": [
      "Enter Minutes: 200\n",
      "3 hours and 20 minutes\n"
     ]
    }
   ],
   "source": [
    "#This will convert 200 minutes to hours by diving by 60\n",
    "a = int(input(\"Enter Minutes: \"))\n",
    "hours = 0\n",
    "minutes = 0\n",
    "while a >= 60:\n",
    "    a -= 60\n",
    "    hours += 1\n",
    "minutes += a\n",
    "if minutes >= 60:\n",
    "    hours += 0.5\n",
    "print(f\"{hours:.0f} hours and {minutes} minutes\")"
   ]
  },
  {
   "cell_type": "markdown",
   "metadata": {},
   "source": [
    "## Author: \n",
    "Muhammad Wasib"
   ]
  },
  {
   "cell_type": "code",
   "execution_count": null,
   "metadata": {},
   "outputs": [],
   "source": []
  }
 ],
 "metadata": {
  "kernelspec": {
   "display_name": "Python 3 (ipykernel)",
   "language": "python",
   "name": "python3"
  },
  "language_info": {
   "codemirror_mode": {
    "name": "ipython",
    "version": 3
   },
   "file_extension": ".py",
   "mimetype": "text/x-python",
   "name": "python",
   "nbconvert_exporter": "python",
   "pygments_lexer": "ipython3",
   "version": "3.9.13"
  }
 },
 "nbformat": 4,
 "nbformat_minor": 4
}
