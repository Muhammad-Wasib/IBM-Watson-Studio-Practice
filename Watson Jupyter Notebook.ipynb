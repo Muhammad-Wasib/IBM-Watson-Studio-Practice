{
    "cells": [
        {
            "metadata": {},
            "cell_type": "markdown",
            "source": "## Publishing a file on github from Watson Studio Ibm.\nThis is my first IBM Watson studio Project, A sample excersie file how to connect integrate github on ibm platform to publish your work."
        },
        {
            "metadata": {},
            "cell_type": "code",
            "source": "print(\"Python\")",
            "execution_count": 2,
            "outputs": [
                {
                    "output_type": "stream",
                    "text": "Python\n",
                    "name": "stdout"
                }
            ]
        }
    ],
    "metadata": {
        "kernelspec": {
            "name": "python3",
            "display_name": "Python 3.10",
            "language": "python"
        },
        "language_info": {
            "name": "python",
            "version": "3.10.6",
            "mimetype": "text/x-python",
            "codemirror_mode": {
                "name": "ipython",
                "version": 3
            },
            "pygments_lexer": "ipython3",
            "nbconvert_exporter": "python",
            "file_extension": ".py"
        }
    },
    "nbformat": 4,
    "nbformat_minor": 1
}