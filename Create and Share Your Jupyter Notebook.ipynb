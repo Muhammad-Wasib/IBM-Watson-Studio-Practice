{
    "cells": [
        {
            "cell_type": "markdown",
            "metadata": {
                "collapsed": true
            },
            "source": "# My Jupyter Notebook on IBM Watson Studio"
        },
        {
            "cell_type": "markdown",
            "metadata": {},
            "source": "<b>MUHAMMAD WASIB</b>"
        },
        {
            "cell_type": "markdown",
            "metadata": {},
            "source": "<b>Data Scientist</b>"
        },
        {
            "cell_type": "markdown",
            "metadata": {},
            "source": "<i>I'm very enthusiastic about data science because I see its potential to accomplish amazing things in the future, such as creating new AI tools, predicting stocks, forecasting national economies, and developing predictive models for the banking industry. As a computer enthusiast and fan of AI, I'm eager to learn more and apply these tools to solve complex problems.\nMy goal is to work for major corporations like Google, IBM, Microsoft, and Facebook, where I can gain exposure to cutting-edge technologies, diverse data sets, and challenging problems. However, I'm also open to exploring opportunities at smaller companies or startups that are focused on data science and AI, as they may offer more flexibility and opportunities to work on a variety of projects. In the long term, I aspire to start my own AI firm that offers services to other organizations as they develop into AI companies. To achieve this, I plan to pursue a degree in a relevant field, such as computer science, mathematics, statistics, or data science, and gain practical experience through internships, research projects, or personal projects. Building a strong network of like-minded professionals and staying up-to-date with the latest developments in data science and AI will also be essential for realizing my </i>"
        },
        {
            "cell_type": "markdown",
            "metadata": {},
            "source": "### The cell below should print course name:"
        },
        {
            "cell_type": "code",
            "execution_count": 10,
            "metadata": {},
            "outputs": [
                {
                    "name": "stdout",
                    "output_type": "stream",
                    "text": "Tools for Data Science\n"
                }
            ],
            "source": "print('Tools for Data Science')"
        },
        {
            "cell_type": "markdown",
            "metadata": {},
            "source": "### Interested technologies:\n***\n1. Artificial Intelligence\n2. Machine learning/deep learning\n3. Data Analytics\n4. Internet of things\n5. Quantum Computing\n***\n[Github](https://github.com/Muhammad-Wasib) https://github.com/Muhammad-Wasib"
        },
        {
            "cell_type": "markdown",
            "metadata": {},
            "source": "| Data Science/AI | Machine learning/Deep learning| Total Results |\n| --- | --- | --- |\n| Learning material | Quiz | .843 |"
        },
        {
            "cell_type": "markdown",
            "metadata": {},
            "source": ""
        }
    ],
    "metadata": {
        "kernelspec": {
            "display_name": "Python 3.10",
            "language": "python",
            "name": "python3"
        },
        "language_info": {
            "codemirror_mode": {
                "name": "ipython",
                "version": 3
            },
            "file_extension": ".py",
            "mimetype": "text/x-python",
            "name": "python",
            "nbconvert_exporter": "python",
            "pygments_lexer": "ipython3",
            "version": "3.10.9"
        }
    },
    "nbformat": 4,
    "nbformat_minor": 1
}